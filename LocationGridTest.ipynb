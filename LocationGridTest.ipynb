{
 "cells": [
  {
   "cell_type": "markdown",
   "id": "3f3a5c3e-c7a3-4bd8-b922-475675e82520",
   "metadata": {},
   "source": [
    "# Check incidence and elevation angle calculations"
   ]
  },
  {
   "cell_type": "markdown",
   "id": "d8d68395-89c4-4ec9-a4b7-1ee6bc24cc48",
   "metadata": {},
   "source": [
    "This notebooks calculates the incidence and elevation angles at a specific grid point in the RUNW geolocation grid using the corresponding slant range, zero Doppler time, elevation, and projected x, y coordinates.  \n",
    "\n",
    "These numbers should agree perfectly (at least to several significant digits). Instead there are differences of a few hundreths of a degree."
   ]
  },
  {
   "cell_type": "code",
   "execution_count": 1,
   "id": "b287a8d2-fc72-4fd3-ab50-6ce95c505023",
   "metadata": {},
   "outputs": [],
   "source": [
    "%load_ext autoreload\n",
    "%autoreload 2\n",
    "import numpy as np\n",
    "import nisarHDF\n",
    "import matplotlib.pyplot as plt\n",
    "import numpy as np\n",
    "import geojson\n",
    "import os\n",
    "from scipy import optimize\n",
    "import pyproj\n",
    "from datetime import datetime\n",
    "import h5py\n",
    "import scipy"
   ]
  },
  {
   "cell_type": "code",
   "execution_count": 2,
   "id": "d5a254cd-fe31-409e-8c20-c8695cd2931e",
   "metadata": {},
   "outputs": [],
   "source": [
    "hdfFile = 'https://nisar.asf.alaska.edu/NISAR-SAMPLE-DATA/RUNW/ALOS-1_Rosamond_20081012_20081127/NISAR_L1_PR_RUNW_001_005_A_219_220_4020_SH_20081012T060910_20081012T060926_20081127T060959_20081127T061015_P01101_M_F_J_001.h5'\n",
    "if not os.path.exists(os.path.basename(hdfFile)):\n",
    "    !wget {hdfFile} "
   ]
  },
  {
   "cell_type": "code",
   "execution_count": 3,
   "id": "ad96f97b-b282-4fbd-b324-3e1cb661ad25",
   "metadata": {},
   "outputs": [],
   "source": [
    "#hdfFile = '../hdfTest/icesheet/data_pair2_ALOS2497735530-230811_ALOS2499805530-230825_14d/RUNW_0000526644_001001_ALOS2497735530-230811_0000528214_001001_ALOS2499805530-230825.h5'\n",
    "hdfFile = 'NISAR_L1_PR_RUNW_001_005_A_219_220_4020_SH_20081012T060910_20081012T060926_20081127T060959_20081127T061015_P01101_M_F_J_001.h5'\n",
    "h5 = h5py.File(hdfFile, 'r')\n",
    "geolocation = h5['science']['LSAR']['RUNW']['metadata']['geolocationGrid']"
   ]
  },
  {
   "cell_type": "markdown",
   "id": "f7a8386a-8ea2-4791-82d8-9b9d968dcd2d",
   "metadata": {},
   "source": [
    "## Get Statevectors"
   ]
  },
  {
   "cell_type": "markdown",
   "id": "9b5eccee-c879-436d-b47b-3e49193ec8d0",
   "metadata": {},
   "source": [
    "Function to parse the state vectors and setup interpolators."
   ]
  },
  {
   "cell_type": "code",
   "execution_count": 4,
   "id": "bab40906-f26a-42cf-a98d-b003b5b99f1b",
   "metadata": {},
   "outputs": [],
   "source": [
    "def parseStateVectors(h5):\n",
    "    orbit = h5['science']['LSAR']['RUNW']['metadata']['orbit']\n",
    "    sv = {}\n",
    "    time = np.array(orbit['time'])\n",
    "    position = np.array(orbit['position'])\n",
    "    velocity = np.array(orbit['velocity'])\n",
    "    for i, pos, vel in zip(range(0, 3), ['xsv', 'ysv', 'zsv'], ['vxsv', 'vysv', 'vzsv']):\n",
    "        sv[pos]= scipy.interpolate.RegularGridInterpolator(\n",
    "                    [time], position[:, i], method='quintic')\n",
    "        sv[vel]= scipy.interpolate.RegularGridInterpolator(\n",
    "                    [time], velocity[:, i], method='quintic')\n",
    "    return sv"
   ]
  },
  {
   "cell_type": "markdown",
   "id": "54cf3be4-b300-4d94-a13c-583ba083678d",
   "metadata": {},
   "source": [
    "Parse the state vectors."
   ]
  },
  {
   "cell_type": "code",
   "execution_count": 5,
   "id": "3b0943e7-ad03-4aa4-873e-ecdc40f7dc18",
   "metadata": {},
   "outputs": [],
   "source": [
    "sv = parseStateVectors(h5)"
   ]
  },
  {
   "cell_type": "markdown",
   "id": "c98fbfbf-fa55-4d11-b4b1-ce9284444eb3",
   "metadata": {},
   "source": [
    "## Get Grid"
   ]
  },
  {
   "cell_type": "markdown",
   "id": "18229a33-aa98-4ad3-9800-dc498283a94d",
   "metadata": {},
   "source": [
    "Get the gelocation coordinates and incidence and elevationAngles."
   ]
  },
  {
   "cell_type": "code",
   "execution_count": 6,
   "id": "c01a32e6-9a27-4ccd-bf5f-91da3c9f1c05",
   "metadata": {},
   "outputs": [
    {
     "name": "stdout",
     "output_type": "stream",
     "text": [
      "EPSG = 32611\n",
      "Slant Range Spacing 499.65\n",
      "(21, 251, 58) (21,) (251,) (58,)\n"
     ]
    }
   ],
   "source": [
    "epsg = np.array(geolocation['epsg']).item()\n",
    "print(f'EPSG = {epsg}')\n",
    "slantRange = np.array(geolocation['slantRange'])\n",
    "dR = slantRange[1]- slantRange[0]\n",
    "print(f'Slant Range Spacing {dR:.2f}')\n",
    "xCoord = np.array(geolocation['coordinateX'])\n",
    "yCoord = np.array(geolocation['coordinateY'])\n",
    "zeroDopplerTime = np.array(geolocation['zeroDopplerTime'])\n",
    "heightAboveEllipsoid = np.array(geolocation['heightAboveEllipsoid'])\n",
    "#\n",
    "elevationAngle =  np.array(geolocation['elevationAngle'])\n",
    "incidenceAngle = np.array(geolocation['incidenceAngle'])\n",
    "#\n",
    "print(elevationAngle.shape, heightAboveEllipsoid.shape, zeroDopplerTime.shape, slantRange.shape)"
   ]
  },
  {
   "cell_type": "markdown",
   "id": "fb939fa6-cc79-4984-b8c5-121825792f07",
   "metadata": {},
   "source": [
    "Get values for a specific point (0 elevation)"
   ]
  },
  {
   "cell_type": "code",
   "execution_count": 7,
   "id": "d7c11b9f-71ea-4a47-bfc9-43fa7159bcba",
   "metadata": {},
   "outputs": [
    {
     "name": "stdout",
     "output_type": "stream",
     "text": [
      "x, y, z = 385143.5 3789475.6 0.0 (m), zeroDopplerTime=  22150.3320 (s), slantRange = 743587.39 (m), elevationAngle 18.9604 incidenceAngle 21.1295\n"
     ]
    }
   ],
   "source": [
    "iz, it, ir = 2, 0, 0\n",
    "zPt = heightAboveEllipsoid[iz]\n",
    "# range/Doppler\n",
    "slantRangePt = slantRange[ir]\n",
    "zeroDopplerPt = zeroDopplerTime[it]\n",
    "# angles\n",
    "elevationAnglePt = elevationAngle[iz, it, ir]\n",
    "incidenceAnglePt = incidenceAngle[iz, it, ir]\n",
    "# projected coordinates\n",
    "xPt, yPt = xCoord[iz, it, ir], yCoord[iz, it, ir]\n",
    "#\n",
    "print(f'x, y, z = {xPt:.1f} {yPt:.1f} {zPt:.1f} (m), zeroDopplerTime=  {zeroDopplerPt:.4f} (s), '\n",
    "      f'slantRange = {slantRangePt:.2f} (m), elevationAngle {elevationAnglePt:.4f} incidenceAngle {incidenceAnglePt:.4f}')"
   ]
  },
  {
   "cell_type": "markdown",
   "id": "94950b07-24b9-4cf9-b377-998501876049",
   "metadata": {},
   "source": [
    "Convert target to ECEF and get the corresponding radius."
   ]
  },
  {
   "cell_type": "code",
   "execution_count": 8,
   "id": "8c9348c8-a827-4bc0-a931-eb550c93a1b6",
   "metadata": {},
   "outputs": [
    {
     "name": "stdout",
     "output_type": "stream",
     "text": [
      "Radius to pt target at elevation 0 m =  6371405.66 m\n"
     ]
    }
   ],
   "source": [
    "# Setup conversion from projected coordinates to ECEF \n",
    "XYToECEF = pyproj.Transformer.from_crs(f\"EPSG:{epsg}\", \"EPSG:4978\").transform\n",
    "ptECEF = XYToECEF(xPt, yPt, zPt)\n",
    "ptRadius = np.linalg.norm(ptECEF)\n",
    "print(f'Radius to pt target at elevation {zPt} m =  {ptRadius:.2f} m')"
   ]
  },
  {
   "cell_type": "markdown",
   "id": "5cf8dbbb-ed3b-4f40-8226-aa81d5342e99",
   "metadata": {},
   "source": [
    "Get the satellite position for the zeroDoppler time and compute the corresponding radius."
   ]
  },
  {
   "cell_type": "code",
   "execution_count": 9,
   "id": "dfe4e6f1-bc7a-4cf3-8a93-31d348d90d3d",
   "metadata": {},
   "outputs": [
    {
     "name": "stdout",
     "output_type": "stream",
     "text": [
      "[-3015234.5030060257, -5058048.299101401, 3913152.8595616613]\n",
      "Radius from Earth Center to Sat 7070237.41\n"
     ]
    }
   ],
   "source": [
    "satPosition = [sv[coord]([zeroDopplerPt])[0] for coord in ['xsv', 'ysv', 'zsv']]\n",
    "print(satPosition)\n",
    "ReH = np.linalg.norm(satPosition)\n",
    "print(f'Radius from Earth Center to Sat {ReH:.2f}')"
   ]
  },
  {
   "cell_type": "markdown",
   "id": "361ef581-2757-4a3e-ab0e-c4c1bf344aca",
   "metadata": {},
   "source": [
    "Paul's solution"
   ]
  },
  {
   "cell_type": "code",
   "execution_count": 10,
   "id": "5082886e-d256-4002-947f-314b69a9fc49",
   "metadata": {},
   "outputs": [
    {
     "name": "stdout",
     "output_type": "stream",
     "text": [
      "beta  = 2.1691\n",
      "theta = 18.9238\n",
      "incidence angle = 21.0929\n"
     ]
    }
   ],
   "source": [
    "r_b_t = ptRadius\n",
    "r_b_sc_plus_h = ReH \n",
    "rho = slantRangePt\n",
    "bta =  np.arccos((0.5*r_b_t/(r_b_sc_plus_h))+0.5*((r_b_sc_plus_h)/r_b_t)-(0.5*(rho/(r_b_sc_plus_h))*(rho/r_b_t)))\n",
    "#  cthta = (r_b_t**2 - r_b_sc_plus_h**2 - rho**2)/ (-2. *  r_b_t * rho)\n",
    "cthta = (rho**2 + r_b_sc_plus_h**2 - r_b_t**2 ) / (2. *  r_b_sc_plus_h * rho)\n",
    "thta = np.arccos(cthta)\n",
    "print(f\"beta  = {bta*180./np.pi:.4f}\")\n",
    "print(f\"theta = {thta*180./np.pi:.4f}\")\n",
    "print(f\"incidence angle = {(thta+bta)*180./np.pi:.4f}\")"
   ]
  },
  {
   "cell_type": "markdown",
   "id": "e727a5ca-bf55-4000-af13-38a1215dc6e9",
   "metadata": {},
   "source": [
    "GrIMP solution."
   ]
  },
  {
   "cell_type": "code",
   "execution_count": 11,
   "id": "d04f6d77-d76e-4d33-b7aa-7d248fe325a0",
   "metadata": {},
   "outputs": [],
   "source": [
    "elevationAngleCalc = np.arccos((slantRangePt**2 + ReH**2 - ptRadius**2) / (2.0 * slantRangePt * ReH))\n",
    "incidenceAngleCalc = np.arcsin(np.sin(elevationAngleCalc) * ReH/ptRadius)"
   ]
  },
  {
   "cell_type": "markdown",
   "id": "92793aa2-46ef-4bc3-b23b-ee1e7b3ca9bd",
   "metadata": {},
   "source": [
    "# Summary"
   ]
  },
  {
   "cell_type": "markdown",
   "id": "c67f2afa-e145-48db-9334-bd311d54b439",
   "metadata": {},
   "source": [
    "Extracting x, y, z, slantRange, and zeroDoppler from the geolocation group and using those values to calculate the incidence and elevation angles produces a result that differs from the corresponding values in the gelociation grid. \n",
    "\n",
    "In this particular example, the error corresponds to either and elevation error of +171 m or a slant range error of +183.5 m. With one of the ALOS Antarctica scenes the error is bit large (0.04742) and corrections of ~400 m are needed to force agreement.\n",
    "\n",
    "Given that the slant range spacing is not an integer multiple of 500 (499.22 in this case), I suspect it has something to do with the way the slant range coordinates are determined (see seperate issue regarding errors in the zero Doppler time grid)."
   ]
  },
  {
   "cell_type": "code",
   "execution_count": 14,
   "id": "a0a7542e-f81d-4ec9-bed9-ed3d0cc0b67c",
   "metadata": {},
   "outputs": [
    {
     "name": "stdout",
     "output_type": "stream",
     "text": [
      "Calculated 1\n",
      "elevationAngle = 18.9238, incidenceAngle=21.0929\n",
      "Calculated 2\n",
      "elevationAngle = 18.9238, incidenceAngle=21.0929\n",
      "From Table\n",
      "elevationAngle = 18.9604, incidenceAngle=21.1295\n"
     ]
    }
   ],
   "source": [
    "print('Calculated 1')\n",
    "print(f'elevationAngle = {np.degrees(elevationAngleCalc):.4f}, incidenceAngle={np.degrees(incidenceAngleCalc):.4f}')\n",
    "print('Calculated 2')\n",
    "print(f'elevationAngle = {thta*180./np.pi:.4f}, incidenceAngle={(thta+bta)*180./np.pi:.4f}')\n",
    "print('From Table')\n",
    "print(f'elevationAngle = {elevationAnglePt:.4f}, incidenceAngle={incidenceAnglePt:.4f}')"
   ]
  },
  {
   "cell_type": "code",
   "execution_count": 15,
   "id": "a1167616-278f-4f41-8057-36f5d8a1d9ec",
   "metadata": {},
   "outputs": [
    {
     "name": "stdout",
     "output_type": "stream",
     "text": [
      "Difference with calculated 1 -0.03660 -0.03657\n",
      "Difference with calculated 2 -0.03660 -0.03657\n"
     ]
    }
   ],
   "source": [
    "print(f'Difference with calculated 1 {np.degrees(elevationAngleCalc) - elevationAnglePt:.5f} {np.degrees(incidenceAngleCalc) - incidenceAnglePt:.5f}')\n",
    "print(f'Difference with calculated 2 {np.degrees(thta) - elevationAnglePt:.5f} {np.degrees(thta + bta) - incidenceAnglePt:.5f}')"
   ]
  },
  {
   "cell_type": "code",
   "execution_count": null,
   "id": "46ad77ba-34d9-4056-a109-f770ee021728",
   "metadata": {},
   "outputs": [],
   "source": []
  }
 ],
 "metadata": {
  "kernelspec": {
   "display_name": "Python 3",
   "language": "python",
   "name": "python3"
  },
  "language_info": {
   "codemirror_mode": {
    "name": "ipython",
    "version": 3
   },
   "file_extension": ".py",
   "mimetype": "text/x-python",
   "name": "python",
   "nbconvert_exporter": "python",
   "pygments_lexer": "ipython3",
   "version": "3.9.13"
  }
 },
 "nbformat": 4,
 "nbformat_minor": 5
}
