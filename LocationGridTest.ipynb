{
 "cells": [
  {
   "cell_type": "markdown",
   "id": "3f3a5c3e-c7a3-4bd8-b922-475675e82520",
   "metadata": {},
   "source": [
    "# Check incidence and elevation angle calculations"
   ]
  },
  {
   "cell_type": "code",
   "execution_count": 1,
   "id": "b287a8d2-fc72-4fd3-ab50-6ce95c505023",
   "metadata": {},
   "outputs": [],
   "source": [
    "%load_ext autoreload\n",
    "%autoreload 2\n",
    "import numpy as np\n",
    "import nisarHDF\n",
    "import matplotlib.pyplot as plt\n",
    "import numpy as np\n",
    "import geojson\n",
    "import os\n",
    "from scipy import optimize\n",
    "import pyproj\n",
    "from datetime import datetime\n",
    "import h5py\n",
    "import scipy"
   ]
  },
  {
   "cell_type": "code",
   "execution_count": 1,
   "id": "d5a254cd-fe31-409e-8c20-c8695cd2931e",
   "metadata": {},
   "outputs": [
    {
     "name": "stdout",
     "output_type": "stream",
     "text": [
      "--2024-02-10 17:48:14--  https://nisar.asf.alaska.edu/NISAR-SAMPLE-DATA/RUNW/ALOS-1_Rosamond_20081012_20081127/NISAR_L1_PR_RUNW_001_005_A_219_220_4020_SH_20081012T060910_20081012T060926_20081127T060959_20081127T061015_P01101_M_F_J_001.h5\n",
      "Resolving nisar.asf.alaska.edu (nisar.asf.alaska.edu)... 108.138.94.36, 108.138.94.4, 108.138.94.107, ...\n",
      "Connecting to nisar.asf.alaska.edu (nisar.asf.alaska.edu)|108.138.94.36|:443... connected.\n",
      "HTTP request sent, awaiting response... 303 See Other\n",
      "Location: https://d1mv8zhcvry6x4.cloudfront.net/s3-7fdfbcb0ce308dc58d08f97acb1f0590/sds-n-cumulus-prod-nisar-sample-data.s3.us-west-2.amazonaws.com/RUNW/ALOS-1_Rosamond_20081012_20081127/NISAR_L1_PR_RUNW_001_005_A_219_220_4020_SH_20081012T060910_20081012T060926_20081127T060959_20081127T061015_P01101_M_F_J_001.h5?A-userid=None&Expires=1707619694&Signature=snNdZfSEsk0khLqMszsrLo2yIXtgCTiKZYeum~O4Zqd1rFQusP9QFXZQyvRiZEEud45BtfQiLVpD4wv~AV5WdSpIs-Y4JOFyHBS2LcrpVsiordd9AaCCbJbifPjiSPcbH~GZOAvXyyBZe4eTmTXdjCd3QroQ2UKWsnYjWqaL3G1-QersF9Aui-L93t~cQszPV5QijqYHllxOjoZPELfLvSmZOKaZvzi7gjVNQUWSeeYOTXy~m84thyKsffoOZIoRuedpUaI6jgvMzF-8467z-96howXz43ow0c12srAvBSofGVgV4TI~KMraVqxVsaC2Pry02EE6MMVVJ0DiyzJfUQ__&Key-Pair-Id=K2SN1PKQZIDYUV [following]\n",
      "--2024-02-10 17:48:15--  https://d1mv8zhcvry6x4.cloudfront.net/s3-7fdfbcb0ce308dc58d08f97acb1f0590/sds-n-cumulus-prod-nisar-sample-data.s3.us-west-2.amazonaws.com/RUNW/ALOS-1_Rosamond_20081012_20081127/NISAR_L1_PR_RUNW_001_005_A_219_220_4020_SH_20081012T060910_20081012T060926_20081127T060959_20081127T061015_P01101_M_F_J_001.h5?A-userid=None&Expires=1707619694&Signature=snNdZfSEsk0khLqMszsrLo2yIXtgCTiKZYeum~O4Zqd1rFQusP9QFXZQyvRiZEEud45BtfQiLVpD4wv~AV5WdSpIs-Y4JOFyHBS2LcrpVsiordd9AaCCbJbifPjiSPcbH~GZOAvXyyBZe4eTmTXdjCd3QroQ2UKWsnYjWqaL3G1-QersF9Aui-L93t~cQszPV5QijqYHllxOjoZPELfLvSmZOKaZvzi7gjVNQUWSeeYOTXy~m84thyKsffoOZIoRuedpUaI6jgvMzF-8467z-96howXz43ow0c12srAvBSofGVgV4TI~KMraVqxVsaC2Pry02EE6MMVVJ0DiyzJfUQ__&Key-Pair-Id=K2SN1PKQZIDYUV\n",
      "Resolving d1mv8zhcvry6x4.cloudfront.net (d1mv8zhcvry6x4.cloudfront.net)... 108.138.94.46, 108.138.94.36, 108.138.94.4, ...\n",
      "Connecting to d1mv8zhcvry6x4.cloudfront.net (d1mv8zhcvry6x4.cloudfront.net)|108.138.94.46|:443... connected.\n",
      "HTTP request sent, awaiting response... 200 OK\n",
      "Length: 49969388 (48M) [binary/octet-stream]\n",
      "Saving to: ‘NISAR_L1_PR_RUNW_001_005_A_219_220_4020_SH_20081012T060910_20081012T060926_20081127T060959_20081127T061015_P01101_M_F_J_001.h5’\n",
      "\n",
      "NISAR_L1_PR_RUNW_00 100%[===================>]  47.65M  33.7MB/s    in 1.4s    \n",
      "\n",
      "2024-02-10 17:48:16 (33.7 MB/s) - ‘NISAR_L1_PR_RUNW_001_005_A_219_220_4020_SH_20081012T060910_20081012T060926_20081127T060959_20081127T061015_P01101_M_F_J_001.h5’ saved [49969388/49969388]\n",
      "\n"
     ]
    }
   ],
   "source": [
    "!wget 'https://nisar.asf.alaska.edu/NISAR-SAMPLE-DATA/RUNW/ALOS-1_Rosamond_20081012_20081127/NISAR_L1_PR_RUNW_001_005_A_219_220_4020_SH_20081012T060910_20081012T060926_20081127T060959_20081127T061015_P01101_M_F_J_001.h5'"
   ]
  },
  {
   "cell_type": "code",
   "execution_count": 2,
   "id": "ad96f97b-b282-4fbd-b324-3e1cb661ad25",
   "metadata": {},
   "outputs": [
    {
     "ename": "NameError",
     "evalue": "name 'h5py' is not defined",
     "output_type": "error",
     "traceback": [
      "\u001b[0;31m---------------------------------------------------------------------------\u001b[0m",
      "\u001b[0;31mNameError\u001b[0m                                 Traceback (most recent call last)",
      "\u001b[0;32m<ipython-input-2-6f95c9e284aa>\u001b[0m in \u001b[0;36m<module>\u001b[0;34m\u001b[0m\n\u001b[1;32m      1\u001b[0m \u001b[0;31m#hdfFile = 'icesheet/data_pair2_ALOS2497735530-230811_ALOS2499805530-230825_14d/RUNW_0000526644_001001_ALOS2497735530-230811_0000528214_001001_ALOS2499805530-230825.h5'\u001b[0m\u001b[0;34m\u001b[0m\u001b[0;34m\u001b[0m\u001b[0;34m\u001b[0m\u001b[0m\n\u001b[1;32m      2\u001b[0m \u001b[0mhdfFile\u001b[0m \u001b[0;34m=\u001b[0m \u001b[0;34m'NISAR_L1_PR_RUNW_001_005_A_219_220_4020_SH_20081012T060910_20081012T060926_20081127T060959_20081127T061015_P01101_M_F_J_001.h5'\u001b[0m\u001b[0;34m\u001b[0m\u001b[0;34m\u001b[0m\u001b[0m\n\u001b[0;32m----> 3\u001b[0;31m \u001b[0mh5\u001b[0m \u001b[0;34m=\u001b[0m \u001b[0mh5py\u001b[0m\u001b[0;34m.\u001b[0m\u001b[0mFile\u001b[0m\u001b[0;34m(\u001b[0m\u001b[0mhdfFile\u001b[0m\u001b[0;34m,\u001b[0m \u001b[0;34m'r'\u001b[0m\u001b[0;34m)\u001b[0m\u001b[0;34m\u001b[0m\u001b[0;34m\u001b[0m\u001b[0m\n\u001b[0m\u001b[1;32m      4\u001b[0m \u001b[0mgeolocation\u001b[0m \u001b[0;34m=\u001b[0m \u001b[0mh5\u001b[0m\u001b[0;34m[\u001b[0m\u001b[0;34m'science'\u001b[0m\u001b[0;34m]\u001b[0m\u001b[0;34m[\u001b[0m\u001b[0;34m'LSAR'\u001b[0m\u001b[0;34m]\u001b[0m\u001b[0;34m[\u001b[0m\u001b[0;34m'RUNW'\u001b[0m\u001b[0;34m]\u001b[0m\u001b[0;34m[\u001b[0m\u001b[0;34m'metadata'\u001b[0m\u001b[0;34m]\u001b[0m\u001b[0;34m[\u001b[0m\u001b[0;34m'geolocationGrid'\u001b[0m\u001b[0;34m]\u001b[0m\u001b[0;34m\u001b[0m\u001b[0;34m\u001b[0m\u001b[0m\n",
      "\u001b[0;31mNameError\u001b[0m: name 'h5py' is not defined"
     ]
    }
   ],
   "source": [
    "#hdfFile = 'icesheet/data_pair2_ALOS2497735530-230811_ALOS2499805530-230825_14d/RUNW_0000526644_001001_ALOS2497735530-230811_0000528214_001001_ALOS2499805530-230825.h5'\n",
    "hdfFile = 'NISAR_L1_PR_RUNW_001_005_A_219_220_4020_SH_20081012T060910_20081012T060926_20081127T060959_20081127T061015_P01101_M_F_J_001.h5'\n",
    "h5 = h5py.File(hdfFile, 'r')\n",
    "geolocation = h5['science']['LSAR']['RUNW']['metadata']['geolocationGrid']"
   ]
  },
  {
   "cell_type": "markdown",
   "id": "f7a8386a-8ea2-4791-82d8-9b9d968dcd2d",
   "metadata": {},
   "source": [
    "## Get Statevectors"
   ]
  },
  {
   "cell_type": "code",
   "execution_count": 151,
   "id": "bab40906-f26a-42cf-a98d-b003b5b99f1b",
   "metadata": {},
   "outputs": [],
   "source": [
    "def parseStateVectors(h5):\n",
    "    orbit = h5['science']['LSAR']['RUNW']['metadata']['orbit']\n",
    "    sv = {}\n",
    "    time = np.array(orbit['time'])\n",
    "    position = np.array(orbit['position'])\n",
    "    velocity = np.array(orbit['velocity'])\n",
    "    for i, pos, vel in zip(range(0, 3), ['xsv', 'ysv', 'zsv'], ['vxsv', 'vysv', 'vzsv']):\n",
    "        sv[pos]= scipy.interpolate.RegularGridInterpolator(\n",
    "                    [time], position[:, i], method='quintic')\n",
    "        sv[vel]= scipy.interpolate.RegularGridInterpolator(\n",
    "                    [time], velocity[:, i], method='quintic')\n",
    "    return sv"
   ]
  },
  {
   "cell_type": "code",
   "execution_count": 152,
   "id": "3b0943e7-ad03-4aa4-873e-ecdc40f7dc18",
   "metadata": {},
   "outputs": [],
   "source": [
    "sv = parseStateVectors(h5)"
   ]
  },
  {
   "cell_type": "markdown",
   "id": "c98fbfbf-fa55-4d11-b4b1-ce9284444eb3",
   "metadata": {},
   "source": [
    "## Get Grid"
   ]
  },
  {
   "cell_type": "code",
   "execution_count": 153,
   "id": "c01a32e6-9a27-4ccd-bf5f-91da3c9f1c05",
   "metadata": {},
   "outputs": [
    {
     "name": "stdout",
     "output_type": "stream",
     "text": [
      "(21, 251, 58) (21,) (251,) (58,)\n"
     ]
    }
   ],
   "source": [
    "slantRange = np.array(geolocation['slantRange'])\n",
    "dR = slantRange[1]- slantRange[0]\n",
    "zeroDopplerTime = np.array(geolocation['zeroDopplerTime'])\n",
    "heightAboveEllipsoid = np.array(geolocation['heightAboveEllipsoid'])\n",
    "#\n",
    "elevationAngle =  np.array(geolocation['elevationAngle'])\n",
    "incidenceAngle = np.array(geolocation['incidenceAngle'])\n",
    "#\n",
    "print(elevationAngle.shape, heightAboveEllipsoid.shape, zeroDopplerTime.shape, slantRange.shape)\n"
   ]
  },
  {
   "cell_type": "markdown",
   "id": "fb939fa6-cc79-4984-b8c5-121825792f07",
   "metadata": {},
   "source": [
    "Get radar geometry from tables. "
   ]
  },
  {
   "cell_type": "code",
   "execution_count": 154,
   "id": "d7c11b9f-71ea-4a47-bfc9-43fa7159bcba",
   "metadata": {},
   "outputs": [
    {
     "name": "stdout",
     "output_type": "stream",
     "text": [
      "z = 0 (m), zeroDopplerTime=  22150.33200 (s), slantRange = 743587.3917643395 (m), elevationAngle 18.9604 incidenceAngle 21.1295\n"
     ]
    }
   ],
   "source": [
    "iz, it, ir = 2, 0, 0\n",
    "zPt = heightAboveEllipsoid[iz]\n",
    "slantRangePt = slantRange[ir]\n",
    "zeroDopplerPt = zeroDopplerTime[it]\n",
    "elevationAnglePt = elevationAngle[iz, it, ir]\n",
    "incidenceAnglePt = incidenceAngle[iz, it, ir]\n",
    "print(f'z = {zPt} (m), zeroDopplerTime=  {zeroDopplerPt:.5f} (s), slantRange = {slantRangePt} (m), elevationAngle {elevationAnglePt:.4f} incidenceAngle {incidenceAnglePt:.4f}')"
   ]
  },
  {
   "cell_type": "markdown",
   "id": "94950b07-24b9-4cf9-b377-998501876049",
   "metadata": {},
   "source": [
    "Get target position."
   ]
  },
  {
   "cell_type": "code",
   "execution_count": 155,
   "id": "8c9348c8-a827-4bc0-a931-eb550c93a1b6",
   "metadata": {},
   "outputs": [
    {
     "name": "stdout",
     "output_type": "stream",
     "text": [
      "Radius to pt target at elevation 0 m =  6363497.91 m\n"
     ]
    }
   ],
   "source": [
    "xCoord = np.array(geolocation['coordinateX'])\n",
    "yCoord = np.array(geolocation['coordinateY'])\n",
    "XYToECEF = pyproj.Transformer.from_crs(\"EPSG:3031\", \"EPSG:4978\").transform\n",
    "xPt, yPt = xCoord[iz, it, ir], yCoord[iz, it, ir]\n",
    "\n",
    "ptECEF = XYToECEF(xPt, yPt, zPt)\n",
    "ptRadius = np.linalg.norm(ptECEF)\n",
    "print(f'Radius to pt target at elevation {zPt} m =  {ptRadius:.2f} m')"
   ]
  },
  {
   "cell_type": "markdown",
   "id": "5cf8dbbb-ed3b-4f40-8226-aa81d5342e99",
   "metadata": {},
   "source": [
    "Get sv position"
   ]
  },
  {
   "cell_type": "code",
   "execution_count": 156,
   "id": "dfe4e6f1-bc7a-4cf3-8a93-31d348d90d3d",
   "metadata": {},
   "outputs": [
    {
     "name": "stdout",
     "output_type": "stream",
     "text": [
      "[array([-3015234.50300603]), array([-5058048.2991014]), array([3913152.85956166])]\n",
      "Radius from Earth Center to Sat 7070237.41\n"
     ]
    }
   ],
   "source": [
    "satPosition = [sv[coord]([zeroDopplerPt]) for coord in ['xsv', 'ysv', 'zsv']]\n",
    "print(satPosition)\n",
    "ReH = np.linalg.norm(satPosition)\n",
    "print(f'Radius from Earth Center to Sat {ReH:.2f}')"
   ]
  },
  {
   "cell_type": "code",
   "execution_count": null,
   "id": "2d3b5370-d9c3-4a79-843c-a0826c8d5308",
   "metadata": {},
   "outputs": [],
   "source": []
  },
  {
   "cell_type": "code",
   "execution_count": 157,
   "id": "5082886e-d256-4002-947f-314b69a9fc49",
   "metadata": {},
   "outputs": [
    {
     "name": "stdout",
     "output_type": "stream",
     "text": [
      "beta  = 1.9748\n",
      "theta = 17.1515\n",
      "incidence angle = 19.1263\n"
     ]
    }
   ],
   "source": [
    "r_b_t = ptRadius\n",
    "r_b_sc_plus_h = ReH\n",
    "rho = slantRangePt\n",
    "bta =  np.arccos((0.5*r_b_t/(r_b_sc_plus_h))+0.5*((r_b_sc_plus_h)/r_b_t)-(0.5*(rho/(r_b_sc_plus_h))*(rho/r_b_t)))\n",
    "#  cthta = (r_b_t**2 - r_b_sc_plus_h**2 - rho**2)/ (-2. *  r_b_t * rho)\n",
    "cthta = (rho**2 + r_b_sc_plus_h**2 - r_b_t**2 ) / (2. *  r_b_sc_plus_h * rho)\n",
    "thta = np.arccos(cthta)\n",
    "print(f\"beta  = {bta*180./np.pi:.4f}\")\n",
    "print(f\"theta = {thta*180./np.pi:.4f}\")\n",
    "print(f\"incidence angle = {(thta+bta)*180./np.pi:.4f}\")"
   ]
  },
  {
   "cell_type": "code",
   "execution_count": 158,
   "id": "d04f6d77-d76e-4d33-b7aa-7d248fe325a0",
   "metadata": {},
   "outputs": [
    {
     "name": "stdout",
     "output_type": "stream",
     "text": [
      "Calculated 1\n",
      "elevationAngle = 17.1515, incidenceAngle=19.1263\n",
      "Calculated 2\n",
      "elevationAngle = 17.1515, incidenceAngle=19.1263\n",
      "From Table\n",
      "elevationAngle = 18.9604, incidenceAngle=21.1295\n"
     ]
    }
   ],
   "source": [
    "elevationAngleCalc = np.arccos((slantRangePt**2 + ReH**2 - ptRadius**2) / (2.0 * slantRangePt * ReH))\n",
    "incidenceAngleCalc = np.arcsin(np.sin(elevationAngleCalc) * ReH/ptRadius)\n",
    "print('Calculated 1')\n",
    "print(f'elevationAngle = {np.degrees(elevationAngleCalc):.4f}, incidenceAngle={np.degrees(incidenceAngleCalc):.4f}')\n",
    "print('Calculated 2')\n",
    "print(f'elevationAngle = {thta*180./np.pi:.4f}, incidenceAngle={(thta+bta)*180./np.pi:.4f}')\n",
    "print('From Table')\n",
    "print(f'elevationAngle = {elevationAnglePt:.4f}, incidenceAngle={incidenceAnglePt:.4f}')"
   ]
  },
  {
   "cell_type": "code",
   "execution_count": 159,
   "id": "a1167616-278f-4f41-8057-36f5d8a1d9ec",
   "metadata": {},
   "outputs": [
    {
     "name": "stdout",
     "output_type": "stream",
     "text": [
      "-1.8088818739317212\n"
     ]
    }
   ],
   "source": [
    "print(np.degrees(elevationAngleCalc) - elevationAnglePt)"
   ]
  },
  {
   "cell_type": "code",
   "execution_count": null,
   "id": "094c9dfd-340e-46d2-8895-9f2b751b07a1",
   "metadata": {},
   "outputs": [],
   "source": []
  },
  {
   "cell_type": "code",
   "execution_count": null,
   "id": "1021e5f0-6b60-4a85-a635-7da35d46dcb6",
   "metadata": {},
   "outputs": [],
   "source": []
  },
  {
   "cell_type": "code",
   "execution_count": null,
   "id": "a4bb6ad1-d873-4252-8286-486a70d7134f",
   "metadata": {},
   "outputs": [],
   "source": []
  },
  {
   "cell_type": "code",
   "execution_count": null,
   "id": "853f2779-5bb0-4928-83a4-7cb3f35ca836",
   "metadata": {},
   "outputs": [],
   "source": []
  }
 ],
 "metadata": {
  "kernelspec": {
   "display_name": "Python 3",
   "language": "python",
   "name": "python3"
  },
  "language_info": {
   "codemirror_mode": {
    "name": "ipython",
    "version": 3
   },
   "file_extension": ".py",
   "mimetype": "text/x-python",
   "name": "python",
   "nbconvert_exporter": "python",
   "pygments_lexer": "ipython3",
   "version": "3.7.9"
  }
 },
 "nbformat": 4,
 "nbformat_minor": 5
}
